{
 "cells": [
  {
   "cell_type": "code",
   "execution_count": 4,
   "id": "66e5edbc-b649-4f97-85ca-192e94bf1719",
   "metadata": {},
   "outputs": [
    {
     "name": "stdout",
     "output_type": "stream",
     "text": [
      "Requirement already satisfied: faker in c:\\users\\jerwi\\anaconda3\\lib\\site-packages (37.5.3)\n",
      "Requirement already satisfied: tzdata in c:\\users\\jerwi\\anaconda3\\lib\\site-packages (from faker) (2023.3)\n"
     ]
    }
   ],
   "source": [
    "!pip install faker"
   ]
  },
  {
   "cell_type": "code",
   "execution_count": 5,
   "id": "380eb502-c1a1-4de4-bfb5-c26a2c07a71a",
   "metadata": {},
   "outputs": [],
   "source": [
    "from faker import Faker"
   ]
  },
  {
   "cell_type": "code",
   "execution_count": 6,
   "id": "4974c63a-1940-46f8-8805-1d923a49456f",
   "metadata": {},
   "outputs": [
    {
     "name": "stdout",
     "output_type": "stream",
     "text": [
      "✅ Done! Database 'placement_eligibility.db' created with fake data.\n"
     ]
    }
   ],
   "source": [
    "import sqlite3\n",
    "from faker import Faker\n",
    "import random\n",
    "\n",
    "# Create Faker instance\n",
    "fake = Faker()\n",
    "\n",
    "# Connect to SQLite\n",
    "conn = sqlite3.connect(\"placement_eligibility.db\")\n",
    "cursor = conn.cursor()\n",
    "\n",
    "# Create tables\n",
    "cursor.execute('''CREATE TABLE IF NOT EXISTS students (\n",
    "    student_id INTEGER PRIMARY KEY,\n",
    "    name TEXT, age INTEGER, gender TEXT, email TEXT, phone TEXT,\n",
    "    enrollment_year INTEGER, course_batch TEXT, city TEXT, graduation_year INTEGER\n",
    ")''')\n",
    "\n",
    "cursor.execute('''CREATE TABLE IF NOT EXISTS programming (\n",
    "    programming_id INTEGER PRIMARY KEY,\n",
    "    student_id INTEGER, language TEXT, problems_solved INTEGER,\n",
    "    assessments_completed INTEGER, mini_projects INTEGER,\n",
    "    certifications_earned INTEGER, latest_project_score INTEGER,\n",
    "    FOREIGN KEY(student_id) REFERENCES students(student_id)\n",
    ")''')\n",
    "\n",
    "cursor.execute('''CREATE TABLE IF NOT EXISTS soft_skills (\n",
    "    soft_skill_id INTEGER PRIMARY KEY,\n",
    "    student_id INTEGER, communication INTEGER, teamwork INTEGER,\n",
    "    presentation INTEGER, leadership INTEGER,\n",
    "    critical_thinking INTEGER, interpersonal_skills INTEGER,\n",
    "    FOREIGN KEY(student_id) REFERENCES students(student_id)\n",
    ")''')\n",
    "\n",
    "cursor.execute('''CREATE TABLE IF NOT EXISTS placements (\n",
    "    placement_id INTEGER PRIMARY KEY,\n",
    "    student_id INTEGER, mock_interview_score INTEGER,\n",
    "    internships_completed INTEGER, placement_status TEXT,\n",
    "    company_name TEXT, placement_package INTEGER,\n",
    "    interview_rounds_cleared INTEGER, placement_date TEXT,\n",
    "    FOREIGN KEY(student_id) REFERENCES students(student_id)\n",
    ")''')\n",
    "\n",
    "# Insert data\n",
    "for _ in range(100):\n",
    "    name = fake.name()\n",
    "    age = random.randint(18, 25)\n",
    "    gender = random.choice([\"Male\", \"Female\", \"Other\"])\n",
    "    email = fake.email()\n",
    "    phone = fake.phone_number()\n",
    "    enrollment_year = random.randint(2019, 2022)\n",
    "    course_batch = \"Batch \" + str(random.randint(1, 5))\n",
    "    city = fake.city()\n",
    "    graduation_year = enrollment_year + 4\n",
    "\n",
    "    cursor.execute(\"INSERT INTO students (name, age, gender, email, phone, enrollment_year, course_batch, city, graduation_year) VALUES (?, ?, ?, ?, ?, ?, ?, ?, ?)\",\n",
    "                   (name, age, gender, email, phone, enrollment_year, course_batch, city, graduation_year))\n",
    "    student_id = cursor.lastrowid\n",
    "\n",
    "    cursor.execute(\"INSERT INTO programming (student_id, language, problems_solved, assessments_completed, mini_projects, certifications_earned, latest_project_score) VALUES (?, ?, ?, ?, ?, ?, ?)\",\n",
    "                   (student_id, random.choice([\"Python\", \"SQL\", \"Java\"]), random.randint(10, 100), random.randint(1, 5), random.randint(0, 3), random.randint(0, 3), random.randint(60, 100)))\n",
    "\n",
    "    cursor.execute(\"INSERT INTO soft_skills (student_id, communication, teamwork, presentation, leadership, critical_thinking, interpersonal_skills) VALUES (?, ?, ?, ?, ?, ?, ?)\",\n",
    "                   (student_id, random.randint(50, 100), random.randint(50, 100), random.randint(50, 100), random.randint(50, 100), random.randint(50, 100), random.randint(50, 100)))\n",
    "\n",
    "    cursor.execute(\"INSERT INTO placements (student_id, mock_interview_score, internships_completed, placement_status, company_name, placement_package, interview_rounds_cleared, placement_date) VALUES (?, ?, ?, ?, ?, ?, ?, ?)\",\n",
    "                   (student_id, random.randint(40, 100), random.randint(0, 2), random.choice([\"Ready\", \"Not Ready\", \"Placed\"]), fake.company(), random.randint(30000, 150000), random.randint(1, 5), fake.date()))\n",
    "\n",
    "conn.commit()\n",
    "print(\"✅ Done! Database 'placement_eligibility.db' created with fake data.\")\n"
   ]
  },
  {
   "cell_type": "code",
   "execution_count": 7,
   "id": "0855293b-533e-438e-964e-f21931587552",
   "metadata": {},
   "outputs": [
    {
     "data": {
      "text/html": [
       "<div>\n",
       "<style scoped>\n",
       "    .dataframe tbody tr th:only-of-type {\n",
       "        vertical-align: middle;\n",
       "    }\n",
       "\n",
       "    .dataframe tbody tr th {\n",
       "        vertical-align: top;\n",
       "    }\n",
       "\n",
       "    .dataframe thead th {\n",
       "        text-align: right;\n",
       "    }\n",
       "</style>\n",
       "<table border=\"1\" class=\"dataframe\">\n",
       "  <thead>\n",
       "    <tr style=\"text-align: right;\">\n",
       "      <th></th>\n",
       "      <th>name</th>\n",
       "      <th>email</th>\n",
       "      <th>problems_solved</th>\n",
       "      <th>communication</th>\n",
       "      <th>mock_interview_score</th>\n",
       "    </tr>\n",
       "  </thead>\n",
       "  <tbody>\n",
       "    <tr>\n",
       "      <th>0</th>\n",
       "      <td>Kimberly Lopez</td>\n",
       "      <td>nancy89@example.org</td>\n",
       "      <td>92</td>\n",
       "      <td>85</td>\n",
       "      <td>80</td>\n",
       "    </tr>\n",
       "    <tr>\n",
       "      <th>1</th>\n",
       "      <td>Chad David</td>\n",
       "      <td>michele06@example.com</td>\n",
       "      <td>61</td>\n",
       "      <td>95</td>\n",
       "      <td>79</td>\n",
       "    </tr>\n",
       "    <tr>\n",
       "      <th>2</th>\n",
       "      <td>Benjamin Orozco</td>\n",
       "      <td>melissahughes@example.org</td>\n",
       "      <td>61</td>\n",
       "      <td>94</td>\n",
       "      <td>73</td>\n",
       "    </tr>\n",
       "    <tr>\n",
       "      <th>3</th>\n",
       "      <td>Debbie Martin</td>\n",
       "      <td>acostacraig@example.net</td>\n",
       "      <td>65</td>\n",
       "      <td>97</td>\n",
       "      <td>86</td>\n",
       "    </tr>\n",
       "    <tr>\n",
       "      <th>4</th>\n",
       "      <td>Julie Henry</td>\n",
       "      <td>ijordan@example.com</td>\n",
       "      <td>61</td>\n",
       "      <td>78</td>\n",
       "      <td>78</td>\n",
       "    </tr>\n",
       "  </tbody>\n",
       "</table>\n",
       "</div>"
      ],
      "text/plain": [
       "              name                      email  problems_solved  communication  \\\n",
       "0   Kimberly Lopez        nancy89@example.org               92             85   \n",
       "1       Chad David      michele06@example.com               61             95   \n",
       "2  Benjamin Orozco  melissahughes@example.org               61             94   \n",
       "3    Debbie Martin    acostacraig@example.net               65             97   \n",
       "4      Julie Henry        ijordan@example.com               61             78   \n",
       "\n",
       "   mock_interview_score  \n",
       "0                    80  \n",
       "1                    79  \n",
       "2                    73  \n",
       "3                    86  \n",
       "4                    78  "
      ]
     },
     "execution_count": 7,
     "metadata": {},
     "output_type": "execute_result"
    }
   ],
   "source": [
    "import pandas as pd\n",
    "\n",
    "query = \"\"\"\n",
    "SELECT s.name, s.email, p.problems_solved, ss.communication, pl.mock_interview_score\n",
    "FROM students s\n",
    "JOIN programming p ON s.student_id = p.student_id\n",
    "JOIN soft_skills ss ON s.student_id = ss.student_id\n",
    "JOIN placements pl ON s.student_id = pl.student_id\n",
    "WHERE p.problems_solved > 50 AND ss.communication > 70 AND pl.mock_interview_score > 60\n",
    "LIMIT 5;\n",
    "\"\"\"\n",
    "\n",
    "df = pd.read_sql_query(query, conn)\n",
    "df\n"
   ]
  },
  {
   "cell_type": "code",
   "execution_count": null,
   "id": "45a74120-362a-418c-a3f2-1bddb4607ef1",
   "metadata": {},
   "outputs": [],
   "source": []
  }
 ],
 "metadata": {
  "kernelspec": {
   "display_name": "Python [conda env:base] *",
   "language": "python",
   "name": "conda-base-py"
  },
  "language_info": {
   "codemirror_mode": {
    "name": "ipython",
    "version": 3
   },
   "file_extension": ".py",
   "mimetype": "text/x-python",
   "name": "python",
   "nbconvert_exporter": "python",
   "pygments_lexer": "ipython3",
   "version": "3.12.7"
  }
 },
 "nbformat": 4,
 "nbformat_minor": 5
}
